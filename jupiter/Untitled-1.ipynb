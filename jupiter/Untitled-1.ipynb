{
 "metadata": {
  "language_info": {
   "codemirror_mode": {
    "name": "ipython",
    "version": 3
   },
   "file_extension": ".py",
   "mimetype": "text/x-python",
   "name": "python",
   "nbconvert_exporter": "python",
   "pygments_lexer": "ipython3",
   "version": "3.8.5"
  },
  "orig_nbformat": 2,
  "kernelspec": {
   "name": "python385jvsc74a57bd0b59fa0c4e8e30a11eba84fa3e53437a2faa5e8cf3897e233ccada9b5dcbc81d3",
   "display_name": "Python 3.8.5 64-bit ('base': conda)"
  },
  "metadata": {
   "interpreter": {
    "hash": "b59fa0c4e8e30a11eba84fa3e53437a2faa5e8cf3897e233ccada9b5dcbc81d3"
   }
  }
 },
 "nbformat": 4,
 "nbformat_minor": 2,
 "cells": [
  {
   "cell_type": "code",
   "execution_count": 88,
   "metadata": {},
   "outputs": [],
   "source": [
    "players = [{\"lastname\": \"Board\", \"firstname\": \"Pierre\", \"elo\": 478, \"score\": 0},{\"lastname\": \"Vignot\", \"firstname\": \"Ivan\", \"elo\": 759, \"score\": 0}, {\"lastname\": \"Bandiera\", \"firstname\": \"Tony\", \"elo\": 678, \"score\": 0}, {\"lastname\": \"Lamour\", \"firstname\": \"Romain\", \"elo\": 879, \"score\": 0}, {\"lastname\": \"Da Fonseca\", \"firstname\": \"Tania\", \"elo\": 980, \"score\": 0}, {\"lastname\": \"Leveque\", \"firstname\": \"Benjamin\", \"elo\": 747, \"score\": 0}, {\"lastname\": \"Leveque\", \"firstname\": \"Nicolas\", \"elo\": 647, \"score\": 0}, {\"lastname\": \"Boyer\", \"firstname\": \"Chirstopher\", \"elo\": 547, \"score\": 0}]"
   ]
  },
  {
   "cell_type": "code",
   "execution_count": 89,
   "metadata": {},
   "outputs": [],
   "source": [
    "def get_elo(players):\n",
    "        return players.get(\"elo\")\n",
    "\n",
    "def sort_elo_players(players):\n",
    "    \"\"\"Docstrings.\"\"\"\n",
    "    players.sort(key=get_elo, reverse=True)\n",
    "    return players\n",
    "\n",
    "def generate_pair(players):\n",
    "        \"\"\"Docstrings.\"\"\"\n",
    "        players_part_one = players[0:4]\n",
    "        players_part_two = players[4:]\n",
    "        players_pair = []\n",
    "        j = 0\n",
    "        while j in range(4):\n",
    "            player_pair = [players_part_one[j], players_part_two[j]]    \n",
    "            j += 1\n",
    "            players_pair.append(player_pair)\n",
    "        return players_pair\n"
   ]
  },
  {
   "cell_type": "code",
   "execution_count": 90,
   "metadata": {},
   "outputs": [
    {
     "output_type": "stream",
     "name": "stdout",
     "text": [
      "[{'lastname': 'Da Fonseca', 'firstname': 'Tania', 'elo': 980, 'score': 0}, {'lastname': 'Lamour', 'firstname': 'Romain', 'elo': 879, 'score': 0}, {'lastname': 'Vignot', 'firstname': 'Ivan', 'elo': 759, 'score': 0}, {'lastname': 'Leveque', 'firstname': 'Benjamin', 'elo': 747, 'score': 0}, {'lastname': 'Bandiera', 'firstname': 'Tony', 'elo': 678, 'score': 0}, {'lastname': 'Leveque', 'firstname': 'Nicolas', 'elo': 647, 'score': 0}, {'lastname': 'Boyer', 'firstname': 'Chirstopher', 'elo': 547, 'score': 0}, {'lastname': 'Board', 'firstname': 'Pierre', 'elo': 478, 'score': 0}]\n"
     ]
    }
   ],
   "source": [
    "players_tri = sort_elo_players(players)\n",
    "print(players_tri)"
   ]
  },
  {
   "cell_type": "code",
   "execution_count": 92,
   "metadata": {},
   "outputs": [
    {
     "output_type": "stream",
     "name": "stdout",
     "text": [
      "[{'lastname': 'Da Fonseca', 'firstname': 'Tania', 'elo': 980, 'score': 0}, {'lastname': 'Bandiera', 'firstname': 'Tony', 'elo': 678, 'score': 0}]\n"
     ]
    }
   ],
   "source": [
    "players_pair = generate_pair(players_tri)\n",
    "print(players_pair[0])"
   ]
  },
  {
   "cell_type": "code",
   "execution_count": null,
   "metadata": {},
   "outputs": [],
   "source": []
  }
 ]
}