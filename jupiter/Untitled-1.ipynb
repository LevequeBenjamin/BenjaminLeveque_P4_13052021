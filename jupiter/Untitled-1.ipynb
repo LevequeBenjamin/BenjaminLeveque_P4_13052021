{
 "metadata": {
  "language_info": {
   "codemirror_mode": {
    "name": "ipython",
    "version": 3
   },
   "file_extension": ".py",
   "mimetype": "text/x-python",
   "name": "python",
   "nbconvert_exporter": "python",
   "pygments_lexer": "ipython3",
   "version": "3.8.5"
  },
  "orig_nbformat": 2,
  "kernelspec": {
   "name": "python385jvsc74a57bd0b59fa0c4e8e30a11eba84fa3e53437a2faa5e8cf3897e233ccada9b5dcbc81d3",
   "display_name": "Python 3.8.5 64-bit ('base': conda)"
  },
  "metadata": {
   "interpreter": {
    "hash": "b59fa0c4e8e30a11eba84fa3e53437a2faa5e8cf3897e233ccada9b5dcbc81d3"
   }
  }
 },
 "nbformat": 4,
 "nbformat_minor": 2,
 "cells": [
  {
   "cell_type": "code",
   "execution_count": 11,
   "metadata": {},
   "outputs": [],
   "source": [
    "players = [{\"lastname\": \"Board\", \"firstname\": \"Pierre\", \"elo\": 478, \"score\": 0},{\"lastname\": \"Vignot\", \"firstname\": \"Ivan\", \"elo\": 759, \"score\": 0}, {\"lastname\": \"Bandiera\", \"firstname\": \"Tony\", \"elo\": 678, \"score\": 0}, {\"lastname\": \"Lamour\", \"firstname\": \"Romain\", \"elo\": 879, \"score\": 0}, {\"lastname\": \"Da Fonseca\", \"firstname\": \"Tania\", \"elo\": 980, \"score\": 0}, {\"lastname\": \"Leveque\", \"firstname\": \"Benjamin\", \"elo\": 747, \"score\": 0}, {\"lastname\": \"Leveque\", \"firstname\": \"Nicolas\", \"elo\": 647, \"score\": 0}, {\"lastname\": \"Boyer\", \"firstname\": \"Chirstopher\", \"elo\": 547, \"score\": 0}]"
   ]
  },
  {
   "cell_type": "code",
   "execution_count": 12,
   "metadata": {},
   "outputs": [],
   "source": [
    "def get_elo(players):\n",
    "        return players.get(\"elo\")\n",
    "\n",
    "def sort_elo_players(players):\n",
    "    \"\"\"Docstrings.\"\"\"\n",
    "    players.sort(key=get_elo, reverse=True)\n",
    "    return players\n",
    "\n",
    "def generate_pair(players):\n",
    "        \"\"\"Docstrings.\"\"\"\n",
    "        players_part_one = players[0:4]\n",
    "        players_part_two = players[4:]\n",
    "        players_pair = []\n",
    "        j = 0\n",
    "        while j in range(4):\n",
    "            player_pair = [players_part_one[j], players_part_two[j]]    \n",
    "            j += 1\n",
    "            players_pair.append(player_pair)\n",
    "        return players_pair\n"
   ]
  },
  {
   "cell_type": "code",
   "execution_count": 13,
   "metadata": {},
   "outputs": [],
   "source": [
    "players_tri = sort_elo_players(players)"
   ]
  },
  {
   "cell_type": "code",
   "execution_count": 14,
   "metadata": {},
   "outputs": [],
   "source": [
    "players_pair = generate_pair(players_tri)"
   ]
  },
  {
   "cell_type": "code",
   "execution_count": 15,
   "metadata": {},
   "outputs": [],
   "source": [
    "def match(players_pair):\n",
    "    for i in range(1,5):\n",
    "        j = 1\n",
    "        if i == 1:          \n",
    "            print(\"Lancer le premier tour.\")\n",
    "        else:\n",
    "            print(f\"{i}ème tour.\")\n",
    "        for player in players_pair:\n",
    "            player_one = player[0]\n",
    "            player_two = player[1]\n",
    "            print(f\"match :\", j)\n",
    "            print(f\"joueur :\", player_one[\"lastname\"])\n",
    "            score_player_one = float(input(f\"Entrez le score : \"))\n",
    "            player_one[\"score\"] += score_player_one\n",
    "            print(f\"joueur :\", player_two[\"lastname\"])\n",
    "            score_player_two = float(input(\"Entrez le score : \"))\n",
    "            player_two[\"score\"] += score_player_two\n",
    "            j += 1\n",
    "        print(players_pair)\n",
    "        "
   ]
  },
  {
   "cell_type": "code",
   "execution_count": 8,
   "metadata": {},
   "outputs": [
    {
     "output_type": "stream",
     "name": "stdout",
     "text": [
      "Lancer le premier tour.\n",
      "match : 1\n",
      "joueur : Da Fonseca\n",
      "joueur : Bandiera\n",
      "match : 2\n",
      "joueur : Lamour\n",
      "joueur : Leveque\n",
      "match : 3\n",
      "joueur : Vignot\n"
     ]
    },
    {
     "output_type": "error",
     "ename": "ValueError",
     "evalue": "could not convert string to float: '1.5\\\\'",
     "traceback": [
      "\u001b[0;31m---------------------------------------------------------------------------\u001b[0m",
      "\u001b[0;31mValueError\u001b[0m                                Traceback (most recent call last)",
      "\u001b[0;32m<ipython-input-8-ca23a2fedd29>\u001b[0m in \u001b[0;36m<module>\u001b[0;34m\u001b[0m\n\u001b[0;32m----> 1\u001b[0;31m \u001b[0mtest\u001b[0m \u001b[0;34m=\u001b[0m \u001b[0mmatch\u001b[0m\u001b[0;34m(\u001b[0m\u001b[0mplayers_pair\u001b[0m\u001b[0;34m)\u001b[0m\u001b[0;34m\u001b[0m\u001b[0;34m\u001b[0m\u001b[0m\n\u001b[0m",
      "\u001b[0;32m<ipython-input-5-8688243d412c>\u001b[0m in \u001b[0;36mmatch\u001b[0;34m(players_pair)\u001b[0m\n\u001b[1;32m     11\u001b[0m             \u001b[0mprint\u001b[0m\u001b[0;34m(\u001b[0m\u001b[0;34mf\"match :\"\u001b[0m\u001b[0;34m,\u001b[0m \u001b[0mj\u001b[0m\u001b[0;34m)\u001b[0m\u001b[0;34m\u001b[0m\u001b[0;34m\u001b[0m\u001b[0m\n\u001b[1;32m     12\u001b[0m             \u001b[0mprint\u001b[0m\u001b[0;34m(\u001b[0m\u001b[0;34mf\"joueur :\"\u001b[0m\u001b[0;34m,\u001b[0m \u001b[0mplayer_one\u001b[0m\u001b[0;34m[\u001b[0m\u001b[0;34m\"lastname\"\u001b[0m\u001b[0;34m]\u001b[0m\u001b[0;34m)\u001b[0m\u001b[0;34m\u001b[0m\u001b[0;34m\u001b[0m\u001b[0m\n\u001b[0;32m---> 13\u001b[0;31m             \u001b[0mscore_player_one\u001b[0m \u001b[0;34m=\u001b[0m \u001b[0mfloat\u001b[0m\u001b[0;34m(\u001b[0m\u001b[0minput\u001b[0m\u001b[0;34m(\u001b[0m\u001b[0;34mf\"Entrez le score : \"\u001b[0m\u001b[0;34m)\u001b[0m\u001b[0;34m)\u001b[0m\u001b[0;34m\u001b[0m\u001b[0;34m\u001b[0m\u001b[0m\n\u001b[0m\u001b[1;32m     14\u001b[0m             \u001b[0mplayer_one\u001b[0m\u001b[0;34m[\u001b[0m\u001b[0;34m\"score\"\u001b[0m\u001b[0;34m]\u001b[0m \u001b[0;34m+=\u001b[0m \u001b[0mscore_player_one\u001b[0m\u001b[0;34m\u001b[0m\u001b[0;34m\u001b[0m\u001b[0m\n\u001b[1;32m     15\u001b[0m             \u001b[0mprint\u001b[0m\u001b[0;34m(\u001b[0m\u001b[0;34mf\"joueur :\"\u001b[0m\u001b[0;34m,\u001b[0m \u001b[0mplayer_two\u001b[0m\u001b[0;34m[\u001b[0m\u001b[0;34m\"lastname\"\u001b[0m\u001b[0;34m]\u001b[0m\u001b[0;34m)\u001b[0m\u001b[0;34m\u001b[0m\u001b[0;34m\u001b[0m\u001b[0m\n",
      "\u001b[0;31mValueError\u001b[0m: could not convert string to float: '1.5\\\\'"
     ]
    }
   ],
   "source": [
    "test = match(players_pair)"
   ]
  },
  {
   "cell_type": "code",
   "execution_count": 16,
   "metadata": {},
   "outputs": [],
   "source": [
    "from datetime import datetime"
   ]
  },
  {
   "cell_type": "code",
   "execution_count": 17,
   "metadata": {},
   "outputs": [
    {
     "output_type": "stream",
     "name": "stdout",
     "text": [
      "2021-05-17 15:43:15.330774\n"
     ]
    }
   ],
   "source": [
    "now = datetime.now()\n",
    "print(now)"
   ]
  },
  {
   "cell_type": "code",
   "execution_count": 20,
   "metadata": {},
   "outputs": [
    {
     "output_type": "stream",
     "name": "stdout",
     "text": [
      "Round1\nRound2\nRound3\nRound4\n"
     ]
    }
   ],
   "source": [
    "for i in range(1, 5):\n",
    "    name = f\"Round{i}\"\n",
    "    print(name)"
   ]
  },
  {
   "cell_type": "code",
   "execution_count": 21,
   "metadata": {},
   "outputs": [],
   "source": [
    "def isfloat(str):\n",
    "  try:\n",
    "    float(str)\n",
    "  except ValueError:\n",
    "    return False\n",
    "  return True"
   ]
  },
  {
   "cell_type": "code",
   "execution_count": 33,
   "metadata": {},
   "outputs": [
    {
     "output_type": "stream",
     "name": "stdout",
     "text": [
      "True\nerror\n"
     ]
    }
   ],
   "source": [
    "i = 0\n",
    "print(isfloat(i))\n",
    "if not i:\n",
    "    print(\"error\")"
   ]
  },
  {
   "cell_type": "code",
   "execution_count": 9,
   "metadata": {},
   "outputs": [
    {
     "output_type": "stream",
     "name": "stdout",
     "text": [
      "0.0\n"
     ]
    }
   ],
   "source": [
    "print(float(0))"
   ]
  },
  {
   "cell_type": "code",
   "execution_count": null,
   "metadata": {},
   "outputs": [],
   "source": []
  }
 ]
}